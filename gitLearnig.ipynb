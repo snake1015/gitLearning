{
 "cells": [
  {
   "cell_type": "markdown",
   "metadata": {
    "collapsed": true
   },
   "source": [
    "一、git 安装 \n",
    "linux 自带不需要安装\n",
    "直接输入命令 git\n",
    "\n",
    "windows 需要从官方下载git.exe安装\n",
    "安装后需要配置\n",
    "git config --global user.name:\"xxxxxx\"\n",
    "git config --global user.email:\"xxxx@xxx.com\"\n",
    "\n",
    "二、git初始化\n",
    "windows下找到git bash并运行\n",
    "\n"
   ]
  }
 ],
 "metadata": {
  "kernelspec": {
   "display_name": "Python 2",
   "language": "python",
   "name": "python2"
  },
  "language_info": {
   "codemirror_mode": {
    "name": "ipython",
    "version": 2
   },
   "file_extension": ".py",
   "mimetype": "text/x-python",
   "name": "python",
   "nbconvert_exporter": "python",
   "pygments_lexer": "ipython2",
   "version": "2.7.6"
  }
 },
 "nbformat": 4,
 "nbformat_minor": 0
}
