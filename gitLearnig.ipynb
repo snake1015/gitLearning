{
 "cells": [
  {
   "cell_type": "markdown",
   "metadata": {
    "collapsed": true
   },
   "source": [
    "一、git 安装 \n",
    "linux 自带不需要安装\n",
    "直接输入命令 git\n",
    "\n",
    "windows 需要从官方下载git.exe安装\n",
    "安装后需要配置\n",
    "git config --global user.name:\"xxxxxx\"\n",
    "git config --global user.email:\"xxxx@xxx.com\"\n",
    "\n",
    "二、git初始化\n",
    "windows下找到git bash并运行\n",
    "进入到用来创建仓库的目录下，输入以下命令后对仓库进行初使化\n",
    "git init\n",
    "初始化后在目录下会有个.git的目录，该目录默认是隐藏的\n",
    "可以通过以下命令查看\n",
    "ls -al\n",
    "\n",
    "三、添加文件到仓库\n",
    "1. 输入以下命令\n",
    "$ git add gitLearnig.ipynb\n",
    "运行后没有任何显示就对了\n",
    "2. 提交文件\n",
    "输入以下命令 -m后面表示对提交的内容描述说明，输入有意义的描述\n",
    "$ git commit -m \"gitlearning file be created\"\n",
    "[master (root-commit) c921dee] gitlearning file be created\n",
    " 1 file changed, 45 insertions(+)\n",
    " create mode 100644 gitLearnig.ipynb\n",
    "\n",
    "提交结果显示1个文件被修改或创建，45行修改\n",
    "\n",
    "commit一次可以提交很多文件，可以通过add先将文件添加到仓库，然后使用commit统一提交\n",
    "\n",
    "四、查看状态和检查文件的不同\n",
    "$ git status\n",
    "On branch master\n",
    "Untracked files:\n",
    "  (use \"git add <file>...\" to include in what will be committed)\n",
    "\n",
    "        .idea/\n",
    "\n",
    "nothing added to commit but untracked files present (use \"git add\" to track)\n",
    "查看当前git的状态\n",
    "\n",
    "$ git diff \n",
    "查看修改的内容\n",
    "\n",
    "要随时掌握工作区的状态，使用git status命令。\n",
    "如果git status告诉你有文件被修改过，用git diff可以查看修改内容\n",
    "\n",
    "五、查看历史提交记录、回退版本、回退记录\n",
    "查看历史提交记录\n",
    "$ git log\n",
    "commit c921deec52e1d8deb2b3961f85c45146c1abd3aa (HEAD -> master)\n",
    "Author: snake1015 <qjxking@126.com>\n",
    "Date:   Sat Jul 28 16:21:13 2018 +0800\n",
    "\n",
    "    gitlearning file be created\n",
    "\n",
    "snake@DESKTOP-T49MHB1 MINGW64 /d/gitLearning (master)\n",
    "\n",
    "回退版本\n",
    "git reset\n",
    "\n",
    "\n",
    "\n",
    "\n",
    "\n",
    "\n",
    "\n"
   ]
  },
  {
   "cell_type": "code",
   "execution_count": null,
   "metadata": {},
   "outputs": [],
   "source": []
  }
 ],
 "metadata": {
  "kernelspec": {
   "display_name": "Python 2",
   "language": "python",
   "name": "python2"
  },
  "language_info": {
   "codemirror_mode": {
    "name": "ipython",
    "version": 2
   },
   "file_extension": ".py",
   "mimetype": "text/x-python",
   "name": "python",
   "nbconvert_exporter": "python",
   "pygments_lexer": "ipython2",
   "version": "2.7.6"
  }
 },
 "nbformat": 4,
 "nbformat_minor": 0
}
